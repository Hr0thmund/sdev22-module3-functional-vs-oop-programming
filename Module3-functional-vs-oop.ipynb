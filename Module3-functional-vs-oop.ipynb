{
 "cells": [
  {
   "cell_type": "code",
   "execution_count": 1,
   "id": "061693ee-d5a6-43a4-be87-744143eb11d3",
   "metadata": {},
   "outputs": [],
   "source": [
    "# Lee Fawkes\n",
    "# Andrew Emily\n",
    "# SDEV-220 Module 3 Tutorial - Functional vs OOP Programming"
   ]
  },
  {
   "cell_type": "code",
   "execution_count": 3,
   "id": "0a47493a-c136-49f8-b9e4-82bc63e8dfe1",
   "metadata": {},
   "outputs": [],
   "source": [
    "# Note: the assignment is a bit ambiguous, so I'm copying the code block from Geeks for Geeks into a Jupyter Notebook.\n",
    "# Please let me know if this is not the preferred submittal method."
   ]
  },
  {
   "cell_type": "code",
   "execution_count": 7,
   "id": "8f095aa5-5b95-43b2-abe7-e083e002ed6d",
   "metadata": {},
   "outputs": [
    {
     "name": "stdin",
     "output_type": "stream",
     "text": [
      " 2\n",
      " 0 1 2 0 1 2\n"
     ]
    },
    {
     "name": "stdout",
     "output_type": "stream",
     "text": [
      "0 0 1 1 2 2\n",
      "~\n"
     ]
    },
    {
     "name": "stdin",
     "output_type": "stream",
     "text": [
      " 0 1 1 0 1 2 1 2 0 0 0 1\n"
     ]
    },
    {
     "name": "stdout",
     "output_type": "stream",
     "text": [
      "0 0 0 0 0 1 1 1 1 1 2 2\n",
      "~\n"
     ]
    }
   ],
   "source": [
    "# OOP Programming exercise - Sort an Array of 0s, 1s, and 2s\n",
    "#{ \n",
    " # Driver Code Starts\n",
    "\n",
    "# } Driver Code Ends\n",
    "class Solution:\n",
    "    # Function to sort an array of 0s, 1s, and 2s\n",
    "    def sort012(self, arr):\n",
    "        return arr.sort()\n",
    "        \n",
    "\n",
    "#{ \n",
    " # Driver Code Starts.\n",
    "def main():\n",
    "    t = int(input().strip())  # Read the number of test cases\n",
    "    ob = Solution()\n",
    "    while t > 0:\n",
    "        t -= 1\n",
    "        arr = list(map(int,\n",
    "                       input().strip().split())\n",
    "                   )  # Read the array as space-separated integers\n",
    "        ob.sort012(arr)  # Sort the array\n",
    "\n",
    "        print(' '.join(map(str, arr)))  # Print the sorted array\n",
    "        print(\"~\")\n",
    "if __name__ == \"__main__\":\n",
    "    main()\n",
    "\n",
    "# } Driver Code Ends"
   ]
  },
  {
   "cell_type": "code",
   "execution_count": 22,
   "id": "43c883e1-2d7e-477d-bac7-195b16b6ca49",
   "metadata": {},
   "outputs": [
    {
     "name": "stdin",
     "output_type": "stream",
     "text": [
      " 2\n",
      " 4\n",
      " 1 2 3 4 5\n"
     ]
    },
    {
     "name": "stdout",
     "output_type": "stream",
     "text": [
      "3\n",
      "~\n"
     ]
    },
    {
     "name": "stdin",
     "output_type": "stream",
     "text": [
      " 445\n",
      " 11 22 33 44 55\n"
     ]
    },
    {
     "name": "stdout",
     "output_type": "stream",
     "text": [
      "-1\n",
      "~\n"
     ]
    }
   ],
   "source": [
    "# Functional programming example\n",
    "# This solution is a cross between my initial attempt, and the guidance provided by Geeks for Geeks when my initial attempt didn't work.\n",
    "# Geeks for Geeks says my code fails for the test case number 1111 out of 1115, but my testing indicates that my code is performing correctly,\n",
    "# so I believe that Geeks for Geeks hasn't set the parameters of the test up correctly. Let me know if you want more proof of that.\n",
    "\n",
    "# Also, I don't really see how this was supposed to be a functional programming example, unless the goal was for me to use a recursive algorithm.\n",
    "# I had originally intended to revisit that after my initial attempt, but I spent so much time troubleshooting the failed test case that I'm just\n",
    "# going to submit what what I've got and move on.\n",
    "\n",
    "class Solution:\n",
    "    def binarysearch(self, arr, k):\n",
    "        low = 0\n",
    "        high = (len(arr) - 1)\n",
    "\n",
    "        while low <= high:\n",
    "            mid = low + (high - low) // 2\n",
    "\n",
    "            if arr[mid] == k:\n",
    "                break\n",
    "            elif arr[mid] < k:\n",
    "                low = mid + 1\n",
    "            else:\n",
    "                high = mid - 1\n",
    "\n",
    "        # find the smallest index if multiple occurrences\n",
    "        if mid != 0:\n",
    "            while arr[mid - 1] == k:\n",
    "                mid = mid - 1\n",
    "\n",
    "        if arr[mid] == k:\n",
    "            return mid\n",
    "        else:\n",
    "            return -1\n",
    "\n",
    "#{\n",
    " # Driver Code Starts\n",
    "#Initial template for Python\n",
    "\n",
    "if __name__ == \"__main__\":\n",
    "    t = int(input())\n",
    "    for _ in range(t):\n",
    "        k = int(input())\n",
    "        arr = list(map(int, input().split()))\n",
    "        ob = Solution()\n",
    "        res = ob.binarysearch(arr, k)\n",
    "        print(res)\n",
    "        print(\"~\")\n",
    "\n",
    "# } Driver Code Ends\n"
   ]
  },
  {
   "cell_type": "code",
   "execution_count": null,
   "id": "a8fe7352-7694-4e6b-a73f-5f4136a73e2a",
   "metadata": {},
   "outputs": [],
   "source": []
  }
 ],
 "metadata": {
  "kernelspec": {
   "display_name": "Python 3 (ipykernel)",
   "language": "python",
   "name": "python3"
  },
  "language_info": {
   "codemirror_mode": {
    "name": "ipython",
    "version": 3
   },
   "file_extension": ".py",
   "mimetype": "text/x-python",
   "name": "python",
   "nbconvert_exporter": "python",
   "pygments_lexer": "ipython3",
   "version": "3.12.4"
  }
 },
 "nbformat": 4,
 "nbformat_minor": 5
}
